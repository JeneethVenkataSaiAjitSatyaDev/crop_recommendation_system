{
 "cells": [
  {
   "cell_type": "code",
   "execution_count": null,
   "id": "8ef21724",
   "metadata": {
    "scrolled": true
   },
   "outputs": [],
   "source": [
    "import pandas as pd\n",
    "import numpy as np\n",
    "import pycaret.clustering as pc\n",
    "#pip install -U --pre pycaret\n",
    "import matplotlib.pyplot as plt\n",
    "%matplotlib inline\n",
    "import seaborn as sns\n",
    "plt.style.use('fivethirtyeight')\n",
    "import warnings\n",
    "warnings.filterwarnings('ignore')"
   ]
  },
  {
   "cell_type": "code",
   "execution_count": null,
   "id": "90a43b98",
   "metadata": {},
   "outputs": [],
   "source": [
    "data = pd.read_csv('../dataset/FinalData.csv')"
   ]
  },
  {
   "cell_type": "code",
   "execution_count": null,
   "id": "c091dd6d",
   "metadata": {},
   "outputs": [],
   "source": [
    "data.head()"
   ]
  },
  {
   "cell_type": "code",
   "execution_count": null,
   "id": "305155a2",
   "metadata": {},
   "outputs": [],
   "source": [
    "# lets check if there is any missing value present in the dataset\n",
    "data.isna().sum()"
   ]
  },
  {
   "cell_type": "code",
   "execution_count": null,
   "id": "9bf0138f",
   "metadata": {},
   "outputs": [],
   "source": [
    "#Checking the basic information of dataset like count, datatypes of columns (categorical or numerical)\n",
    "data.info()"
   ]
  },
  {
   "cell_type": "code",
   "execution_count": null,
   "id": "c9ada650",
   "metadata": {},
   "outputs": [],
   "source": [
    "#All columns are numerical except label which is categorical"
   ]
  },
  {
   "cell_type": "code",
   "execution_count": null,
   "id": "f91b41ca",
   "metadata": {
    "scrolled": true
   },
   "outputs": [],
   "source": [
    "#Removing duplicate rows if any\n",
    "data.drop_duplicates()"
   ]
  },
  {
   "cell_type": "code",
   "execution_count": null,
   "id": "9eb301db",
   "metadata": {
    "scrolled": true
   },
   "outputs": [],
   "source": [
    "data.shape"
   ]
  },
  {
   "cell_type": "code",
   "execution_count": null,
   "id": "babccf64",
   "metadata": {
    "scrolled": true
   },
   "outputs": [],
   "source": [
    "# Checking whether dataset is balanced or not\n",
    "data['label'].value_counts()"
   ]
  },
  {
   "cell_type": "code",
   "execution_count": null,
   "id": "8817f1b8",
   "metadata": {
    "scrolled": true
   },
   "outputs": [],
   "source": [
    "#Checking the unique classes in label (output)\n",
    "data['label'].unique()"
   ]
  },
  {
   "cell_type": "code",
   "execution_count": null,
   "id": "553e7aec",
   "metadata": {
    "scrolled": true
   },
   "outputs": [],
   "source": [
    "#Checking the unique classes in label (output)\n",
    "data['label'].nunique()"
   ]
  },
  {
   "cell_type": "code",
   "execution_count": null,
   "id": "32f46cb0",
   "metadata": {},
   "outputs": [],
   "source": [
    "data.describe(include=\"all\")"
   ]
  },
  {
   "cell_type": "code",
   "execution_count": null,
   "id": "d48623b0",
   "metadata": {},
   "outputs": [],
   "source": [
    "#Shows summary statistics of datset. Here we can know the data quality is good by checking how close in mean and median.\n",
    "#In this dataset temperature and ph seems to have better distribution, other columns may have outliers."
   ]
  },
  {
   "cell_type": "code",
   "execution_count": null,
   "id": "1140ebe7",
   "metadata": {
    "scrolled": true
   },
   "outputs": [],
   "source": [
    "# lets check the Summary for all the crops\n",
    "\n",
    "print(\"Average Ratio of Nitrogen in the Soil : {0:.2f}\".format(data['N'].mean()))\n",
    "print(\"Average Ratio of Phosphorous in the Soil : {0:.2f}\".format(data['P'].mean()))\n",
    "print(\"Average Ratio of Potassium in the Soil : {0:.2f}\".format(data['K'].mean()))\n",
    "print(\"Average Tempature in Celsius : {0:.2f}\".format(data['temperature'].mean()))\n",
    "print(\"Average Relative Humidity in % : {0:.2f}\".format(data['humidity'].mean()))\n",
    "print(\"Average PH Value of the soil : {0:.2f}\".format(data['ph'].mean()))\n",
    "print(\"Average Rainfall in mm : {0:.2f}\".format(data['rainfall'].mean()))"
   ]
  },
  {
   "cell_type": "code",
   "execution_count": null,
   "id": "0a0e60ca",
   "metadata": {
    "scrolled": true
   },
   "outputs": [],
   "source": [
    "fig, ax = plt.subplots(1, 1, figsize=(15, 9))\n",
    "sns.heatmap(data.corr(), annot=True,cmap='viridis')\n",
    "ax.set(xlabel='features')\n",
    "ax.set(ylabel='features')\n",
    "#f,ax=plt.subplots(figsize=(5,5))\n",
    "plt.title('Correlation between different features', fontsize = 15, c='black')\n",
    "plt.show()"
   ]
  },
  {
   "cell_type": "code",
   "execution_count": null,
   "id": "5474f72c",
   "metadata": {},
   "outputs": [],
   "source": [
    "#Correlation between Potassium and Phosphorus is high."
   ]
  },
  {
   "cell_type": "code",
   "execution_count": null,
   "id": "6110de7f",
   "metadata": {
    "scrolled": true
   },
   "outputs": [],
   "source": [
    "crop_summary = pd.pivot_table(data,index=['label'],aggfunc='mean')\n",
    "crop_summary.head()"
   ]
  },
  {
   "cell_type": "code",
   "execution_count": null,
   "id": "deb95517",
   "metadata": {},
   "outputs": [],
   "source": [
    "### Data Visualizations\n",
    "\n",
    "plt.rcParams['figure.figsize'] = (16,10)\n",
    "\n",
    "plt.subplot(2, 4, 1)\n",
    "sns.barplot(data['N'], data['label'])\n",
    "plt.ylabel(' ')\n",
    "plt.xlabel('Ratio of Nitrogen', fontsize = 10)\n",
    "plt.yticks(fontsize = 10)\n",
    "\n",
    "plt.subplot(2, 4, 2)\n",
    "sns.barplot(data['P'], data['label'])\n",
    "plt.ylabel(' ')\n",
    "plt.xlabel('Ratio of Phosphorous', fontsize = 10)\n",
    "plt.yticks(fontsize = 10)\n",
    "\n",
    "plt.subplot(2, 4, 3)\n",
    "sns.barplot(data['K'], data['label'])\n",
    "plt.ylabel(' ')\n",
    "plt.xlabel('Ratio of Potassium', fontsize = 10)\n",
    "plt.yticks(fontsize = 10)\n",
    "\n",
    "plt.subplot(2, 4, 4)\n",
    "sns.barplot(data['temperature'], data['label'])\n",
    "plt.ylabel(' ')\n",
    "plt.xlabel('Temperature', fontsize = 10)\n",
    "plt.yticks(fontsize = 10)\n",
    "\n",
    "plt.subplot(2, 4, 5)\n",
    "sns.barplot(data['humidity'], data['label'])\n",
    "plt.ylabel(' ')\n",
    "plt.xlabel('Humidity', fontsize = 10)\n",
    "plt.yticks(fontsize = 10)\n",
    "\n",
    "plt.subplot(2, 4, 6)\n",
    "sns.barplot(data['ph'], data['label'])\n",
    "plt.ylabel(' ')\n",
    "plt.xlabel('pH of Soil', fontsize = 10)\n",
    "plt.yticks(fontsize = 10)\n",
    "\n",
    "plt.subplot(2, 4, 7)\n",
    "sns.barplot(data['rainfall'], data['label'])\n",
    "plt.ylabel(' ')\n",
    "plt.xlabel('Rainfall', fontsize = 10)\n",
    "plt.yticks(fontsize = 10)\n",
    "\n",
    "plt.suptitle('Visualizing the Impact of Different Conditions on Crops', fontsize = 15)\n",
    "plt.show()"
   ]
  },
  {
   "cell_type": "markdown",
   "id": "0b91f6a6",
   "metadata": {},
   "source": [
    "Clustering Smilar Crops"
   ]
  },
  {
   "cell_type": "code",
   "execution_count": null,
   "id": "f1497417",
   "metadata": {
    "scrolled": false
   },
   "outputs": [],
   "source": [
    "#setting up our cluster \n",
    "#normalization is for scalling the dataset to have similar scale\n",
    "#ignore the categorial column(target)\n",
    "\n",
    "clust = pc.setup(data, ignore_features=['label'], session_id=123)"
   ]
  },
  {
   "cell_type": "markdown",
   "id": "4eb9afb7",
   "metadata": {},
   "source": [
    "KMEANS "
   ]
  },
  {
   "cell_type": "code",
   "execution_count": null,
   "id": "8a239563",
   "metadata": {},
   "outputs": [],
   "source": [
    "\n",
    "kmeans = pc.create_model(\"kmeans\") "
   ]
  },
  {
   "cell_type": "code",
   "execution_count": null,
   "id": "367b7e27",
   "metadata": {
    "scrolled": true
   },
   "outputs": [],
   "source": [
    "print(kmeans)"
   ]
  },
  {
   "cell_type": "code",
   "execution_count": null,
   "id": "e9ab8878",
   "metadata": {},
   "outputs": [],
   "source": [
    "#availanle models in pycaret clustering\n",
    "pc.models()"
   ]
  },
  {
   "cell_type": "code",
   "execution_count": null,
   "id": "fc59eca0",
   "metadata": {},
   "outputs": [],
   "source": [
    "pc.plot_model(kmeans)"
   ]
  },
  {
   "cell_type": "code",
   "execution_count": null,
   "id": "fdefd7f9",
   "metadata": {},
   "outputs": [],
   "source": [
    "pc.plot_model(kmeans, plot=\"elbow\") \n",
    " #shows the optimal number of cluster to use"
   ]
  },
  {
   "cell_type": "code",
   "execution_count": null,
   "id": "8f181cbb",
   "metadata": {
    "scrolled": true
   },
   "outputs": [],
   "source": [
    "pc.plot_model(kmeans, plot=\"silhouette\")"
   ]
  },
  {
   "cell_type": "code",
   "execution_count": null,
   "id": "d4d7c47a",
   "metadata": {},
   "outputs": [],
   "source": [
    "pc.plot_model(kmeans, plot=\"cluster\")"
   ]
  },
  {
   "cell_type": "code",
   "execution_count": null,
   "id": "06b3639d",
   "metadata": {
    "scrolled": false
   },
   "outputs": [],
   "source": [
    "pc.plot_model(kmeans, plot=\"distribution\")"
   ]
  },
  {
   "cell_type": "code",
   "execution_count": null,
   "id": "3f2041c0",
   "metadata": {},
   "outputs": [],
   "source": [
    "kmeans_result = pc.assign_model(kmeans)"
   ]
  },
  {
   "cell_type": "code",
   "execution_count": null,
   "id": "cbc4d786",
   "metadata": {},
   "outputs": [],
   "source": [
    "kmeans_result = kmeans_result.join(data['label'])"
   ]
  },
  {
   "cell_type": "code",
   "execution_count": null,
   "id": "3eba72b3",
   "metadata": {},
   "outputs": [],
   "source": [
    "kmeans_result"
   ]
  },
  {
   "cell_type": "code",
   "execution_count": null,
   "id": "81f2e45c",
   "metadata": {},
   "outputs": [],
   "source": [
    "kmeans_result = kmeans_result.reindex(columns=['N','P','K',\"temperature\",'humidity','ph','rainfall','label','Cluster'])"
   ]
  },
  {
   "cell_type": "code",
   "execution_count": null,
   "id": "d0163950",
   "metadata": {},
   "outputs": [],
   "source": [
    "kmeans_result"
   ]
  },
  {
   "cell_type": "code",
   "execution_count": null,
   "id": "a689412e",
   "metadata": {},
   "outputs": [],
   "source": [
    "cluster0 = kmeans_result[kmeans_result['Cluster']=='Cluster 0']\n",
    "cluster1 = kmeans_result[kmeans_result['Cluster']=='Cluster 1']\n",
    "cluster2 = kmeans_result[kmeans_result['Cluster']=='Cluster 2']\n",
    "cluster3 = kmeans_result[kmeans_result['Cluster']=='Cluster 3']"
   ]
  },
  {
   "cell_type": "code",
   "execution_count": null,
   "id": "9c84b453",
   "metadata": {},
   "outputs": [],
   "source": [
    "cluster0 = list(set(cluster0['label']))\n",
    "cluster1 = list(set(cluster1['label']))\n",
    "cluster2 = list(set(cluster2['label']))\n",
    "cluster3 = list(set(cluster3['label']))"
   ]
  },
  {
   "cell_type": "code",
   "execution_count": null,
   "id": "0e2e1549",
   "metadata": {},
   "outputs": [],
   "source": [
    "print(\"crops found in First_cluster are : \"+\",\".join(cluster0)+\"\\n\")\n",
    "print(\"crops found in Second_cluster are : \"+\",\".join(cluster1)+\"\\n\")\n",
    "print(\"crops found in Third_cluster are : \"+\",\".join(cluster2)+\"\\n\")\n",
    "print(\"crops found in Forth_cluster are : \"+\",\".join(cluster3)+\"\\n\")"
   ]
  },
  {
   "cell_type": "code",
   "execution_count": null,
   "id": "dc9148a7",
   "metadata": {},
   "outputs": [],
   "source": [
    "#channge the value of cluster to be numbers only\n",
    "kmeans_result2 = kmeans_result.copy()"
   ]
  },
  {
   "cell_type": "code",
   "execution_count": null,
   "id": "52475f30",
   "metadata": {},
   "outputs": [],
   "source": [
    "kmeans_result2.to_csv('../dataset/kmeans_result2.csv')"
   ]
  },
  {
   "cell_type": "code",
   "execution_count": null,
   "id": "17a00600",
   "metadata": {},
   "outputs": [],
   "source": [
    "kmeans_result2 = pd.read_csv('../dataset/kmeans_result2.csv')"
   ]
  },
  {
   "cell_type": "code",
   "execution_count": null,
   "id": "c95ed409",
   "metadata": {},
   "outputs": [],
   "source": [
    "kmeans_result2['Cluster'] = kmeans_result2['Cluster'].str.replace(\"Cluster\",'').apply(int)"
   ]
  },
  {
   "cell_type": "code",
   "execution_count": null,
   "id": "20b17ce2",
   "metadata": {
    "scrolled": true
   },
   "outputs": [],
   "source": [
    "kmeans_result2"
   ]
  },
  {
   "cell_type": "code",
   "execution_count": null,
   "id": "ba59a4b5",
   "metadata": {
    "scrolled": false
   },
   "outputs": [],
   "source": [
    "plt.scatter(kmeans_result2['humidity'],kmeans_result['temperature'],c=kmeans_result2['Cluster'],cmap='rainbow')"
   ]
  },
  {
   "cell_type": "code",
   "execution_count": null,
   "id": "c4c5c5f0",
   "metadata": {
    "scrolled": true
   },
   "outputs": [],
   "source": [
    "pc.save_model(kmeans, \"../model/crop-model\")"
   ]
  },
  {
   "cell_type": "code",
   "execution_count": null,
   "id": "eb13bc0d",
   "metadata": {},
   "outputs": [],
   "source": [
    "saved_model = pc.load_model(\"../model/crop-model\")"
   ]
  },
  {
   "cell_type": "code",
   "execution_count": null,
   "id": "dfcd1609",
   "metadata": {},
   "outputs": [],
   "source": [
    "unknown_data = pd.DataFrame([{'N':70,'P':59,'K':43,'rainfall':202,'humidity':82,'ph':7,'temperature':20}])"
   ]
  },
  {
   "cell_type": "code",
   "execution_count": null,
   "id": "66bc5c63",
   "metadata": {},
   "outputs": [],
   "source": [
    "pred = pc.predict_model(saved_model,unknown_data)"
   ]
  },
  {
   "cell_type": "code",
   "execution_count": null,
   "id": "a618dda3",
   "metadata": {},
   "outputs": [],
   "source": [
    "pred"
   ]
  },
  {
   "cell_type": "code",
   "execution_count": null,
   "id": "016d867a",
   "metadata": {},
   "outputs": [],
   "source": [
    "pred = int(pred['Cluster'][0][-1])"
   ]
  },
  {
   "cell_type": "code",
   "execution_count": null,
   "id": "6a55c66f",
   "metadata": {},
   "outputs": [],
   "source": [
    "kmeans_result=kmeans_result2[kmeans_result2['Cluster']==pred]"
   ]
  },
  {
   "cell_type": "code",
   "execution_count": null,
   "id": "cccd6de9",
   "metadata": {},
   "outputs": [],
   "source": [
    "kmeans_result"
   ]
  },
  {
   "cell_type": "code",
   "execution_count": null,
   "id": "d279b33d",
   "metadata": {},
   "outputs": [],
   "source": [
    "crops = list(set(kmeans_result['label']))"
   ]
  },
  {
   "cell_type": "code",
   "execution_count": null,
   "id": "d7a7bc82",
   "metadata": {},
   "outputs": [],
   "source": [
    "print(\"crops recommended for particular variables are :\\n \"+\",\".join(crops)+\"\\n\")"
   ]
  },
  {
   "cell_type": "code",
   "execution_count": null,
   "id": "e6507113",
   "metadata": {},
   "outputs": [],
   "source": []
  }
 ],
 "metadata": {
  "kernelspec": {
   "display_name": "Python 3 (ipykernel)",
   "language": "python",
   "name": "python3"
  },
  "language_info": {
   "codemirror_mode": {
    "name": "ipython",
    "version": 3
   },
   "file_extension": ".py",
   "mimetype": "text/x-python",
   "name": "python",
   "nbconvert_exporter": "python",
   "pygments_lexer": "ipython3",
   "version": "3.9.13 (main, Aug 25 2022, 23:51:50) [MSC v.1916 64 bit (AMD64)]"
  },
  "vscode": {
   "interpreter": {
    "hash": "a85f774807126dd9ffaaad57dfc1afdd3a211ad45708315c9f25daf4e7c72994"
   }
  }
 },
 "nbformat": 4,
 "nbformat_minor": 5
}
